{
 "cells": [
  {
   "cell_type": "code",
   "execution_count": null,
   "id": "eb71f93b-6a21-4333-879c-1e7b3df03f48",
   "metadata": {},
   "outputs": [],
   "source": []
  }
 ],
 "metadata": {
  "kernelspec": {
   "display_name": "",
   "name": ""
  },
  "language_info": {
   "name": ""
  }
 },
 "nbformat": 4,
 "nbformat_minor": 5
}
